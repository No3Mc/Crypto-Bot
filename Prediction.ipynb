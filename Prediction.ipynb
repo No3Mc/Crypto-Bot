{
 "cells": [
  {
   "cell_type": "code",
   "execution_count": 18,
   "id": "ea785b51",
   "metadata": {},
   "outputs": [],
   "source": [
    "import pandas as pd\n",
    "import matplotlib.pyplot as plt\n",
    "import seaborn as sns\n",
    "from sklearn.linear_model import LinearRegression\n",
    "from sklearn.model_selection import train_test_split\n",
    "%matplotlib inline "
   ]
  },
  {
   "cell_type": "code",
   "execution_count": 19,
   "id": "07c188b5",
   "metadata": {},
   "outputs": [],
   "source": [
    "eth = pd.read_csv('Updated-Ethereum History(2019-2023).csv')"
   ]
  },
  {
   "cell_type": "code",
   "execution_count": 20,
   "id": "5b67dc2b",
   "metadata": {},
   "outputs": [
    {
     "data": {
      "text/html": [
       "<div>\n",
       "<style scoped>\n",
       "    .dataframe tbody tr th:only-of-type {\n",
       "        vertical-align: middle;\n",
       "    }\n",
       "\n",
       "    .dataframe tbody tr th {\n",
       "        vertical-align: top;\n",
       "    }\n",
       "\n",
       "    .dataframe thead th {\n",
       "        text-align: right;\n",
       "    }\n",
       "</style>\n",
       "<table border=\"1\" class=\"dataframe\">\n",
       "  <thead>\n",
       "    <tr style=\"text-align: right;\">\n",
       "      <th></th>\n",
       "      <th>Open</th>\n",
       "      <th>High</th>\n",
       "      <th>Low</th>\n",
       "      <th>Close</th>\n",
       "    </tr>\n",
       "  </thead>\n",
       "  <tbody>\n",
       "    <tr>\n",
       "      <th>0</th>\n",
       "      <td>1210.95</td>\n",
       "      <td>1270.50</td>\n",
       "      <td>1209.61</td>\n",
       "      <td>1252.16</td>\n",
       "    </tr>\n",
       "    <tr>\n",
       "      <th>1</th>\n",
       "      <td>1219.58</td>\n",
       "      <td>1219.65</td>\n",
       "      <td>1205.82</td>\n",
       "      <td>1210.65</td>\n",
       "    </tr>\n",
       "    <tr>\n",
       "      <th>2</th>\n",
       "      <td>1202.11</td>\n",
       "      <td>1221.34</td>\n",
       "      <td>1192.89</td>\n",
       "      <td>1221.34</td>\n",
       "    </tr>\n",
       "    <tr>\n",
       "      <th>3</th>\n",
       "      <td>1199.52</td>\n",
       "      <td>1203.55</td>\n",
       "      <td>1190.86</td>\n",
       "      <td>1202.11</td>\n",
       "    </tr>\n",
       "    <tr>\n",
       "      <th>4</th>\n",
       "      <td>1197.51</td>\n",
       "      <td>1206.99</td>\n",
       "      <td>1192.00</td>\n",
       "      <td>1199.52</td>\n",
       "    </tr>\n",
       "  </tbody>\n",
       "</table>\n",
       "</div>"
      ],
      "text/plain": [
       "      Open     High      Low    Close\n",
       "0  1210.95  1270.50  1209.61  1252.16\n",
       "1  1219.58  1219.65  1205.82  1210.65\n",
       "2  1202.11  1221.34  1192.89  1221.34\n",
       "3  1199.52  1203.55  1190.86  1202.11\n",
       "4  1197.51  1206.99  1192.00  1199.52"
      ]
     },
     "execution_count": 20,
     "metadata": {},
     "output_type": "execute_result"
    }
   ],
   "source": [
    "eth.drop(['Date'], axis=1, inplace=True)\n",
    "eth.head()"
   ]
  },
  {
   "cell_type": "code",
   "execution_count": 22,
   "id": "0f918a29",
   "metadata": {},
   "outputs": [],
   "source": [
    "X = eth[['Open','High','Low']]"
   ]
  },
  {
   "cell_type": "code",
   "execution_count": 23,
   "id": "fdaa5c49",
   "metadata": {},
   "outputs": [],
   "source": [
    "y = eth['Close']"
   ]
  },
  {
   "cell_type": "code",
   "execution_count": 24,
   "id": "a48510c2",
   "metadata": {},
   "outputs": [],
   "source": [
    "X_train, X_test, y_train, y_test = train_test_split(X, y, test_size=0.33, random_state=42)"
   ]
  },
  {
   "cell_type": "code",
   "execution_count": 25,
   "id": "f08b008b",
   "metadata": {},
   "outputs": [
    {
     "data": {
      "text/html": [
       "<div>\n",
       "<style scoped>\n",
       "    .dataframe tbody tr th:only-of-type {\n",
       "        vertical-align: middle;\n",
       "    }\n",
       "\n",
       "    .dataframe tbody tr th {\n",
       "        vertical-align: top;\n",
       "    }\n",
       "\n",
       "    .dataframe thead th {\n",
       "        text-align: right;\n",
       "    }\n",
       "</style>\n",
       "<table border=\"1\" class=\"dataframe\">\n",
       "  <thead>\n",
       "    <tr style=\"text-align: right;\">\n",
       "      <th></th>\n",
       "      <th>Open</th>\n",
       "      <th>High</th>\n",
       "      <th>Low</th>\n",
       "    </tr>\n",
       "  </thead>\n",
       "  <tbody>\n",
       "    <tr>\n",
       "      <th>613</th>\n",
       "      <td>2711.17</td>\n",
       "      <td>2799.99</td>\n",
       "      <td>2675.41</td>\n",
       "    </tr>\n",
       "    <tr>\n",
       "      <th>1303</th>\n",
       "      <td>241.24</td>\n",
       "      <td>254.11</td>\n",
       "      <td>241.17</td>\n",
       "    </tr>\n",
       "    <tr>\n",
       "      <th>486</th>\n",
       "      <td>3808.77</td>\n",
       "      <td>4027.56</td>\n",
       "      <td>3715.41</td>\n",
       "    </tr>\n",
       "    <tr>\n",
       "      <th>561</th>\n",
       "      <td>2225.64</td>\n",
       "      <td>2261.99</td>\n",
       "      <td>2047.02</td>\n",
       "    </tr>\n",
       "    <tr>\n",
       "      <th>308</th>\n",
       "      <td>2954.09</td>\n",
       "      <td>3036.89</td>\n",
       "      <td>2917.49</td>\n",
       "    </tr>\n",
       "    <tr>\n",
       "      <th>...</th>\n",
       "      <td>...</td>\n",
       "      <td>...</td>\n",
       "      <td>...</td>\n",
       "    </tr>\n",
       "    <tr>\n",
       "      <th>1130</th>\n",
       "      <td>148.08</td>\n",
       "      <td>155.87</td>\n",
       "      <td>141.16</td>\n",
       "    </tr>\n",
       "    <tr>\n",
       "      <th>1294</th>\n",
       "      <td>269.59</td>\n",
       "      <td>278.80</td>\n",
       "      <td>263.35</td>\n",
       "    </tr>\n",
       "    <tr>\n",
       "      <th>860</th>\n",
       "      <td>388.65</td>\n",
       "      <td>396.90</td>\n",
       "      <td>384.01</td>\n",
       "    </tr>\n",
       "    <tr>\n",
       "      <th>1459</th>\n",
       "      <td>137.70</td>\n",
       "      <td>155.95</td>\n",
       "      <td>136.64</td>\n",
       "    </tr>\n",
       "    <tr>\n",
       "      <th>1126</th>\n",
       "      <td>152.00</td>\n",
       "      <td>152.74</td>\n",
       "      <td>146.00</td>\n",
       "    </tr>\n",
       "  </tbody>\n",
       "</table>\n",
       "<p>978 rows × 3 columns</p>\n",
       "</div>"
      ],
      "text/plain": [
       "         Open     High      Low\n",
       "613   2711.17  2799.99  2675.41\n",
       "1303   241.24   254.11   241.17\n",
       "486   3808.77  4027.56  3715.41\n",
       "561   2225.64  2261.99  2047.02\n",
       "308   2954.09  3036.89  2917.49\n",
       "...       ...      ...      ...\n",
       "1130   148.08   155.87   141.16\n",
       "1294   269.59   278.80   263.35\n",
       "860    388.65   396.90   384.01\n",
       "1459   137.70   155.95   136.64\n",
       "1126   152.00   152.74   146.00\n",
       "\n",
       "[978 rows x 3 columns]"
      ]
     },
     "execution_count": 25,
     "metadata": {},
     "output_type": "execute_result"
    }
   ],
   "source": [
    "X_train"
   ]
  },
  {
   "cell_type": "code",
   "execution_count": 26,
   "id": "dd39c5fc",
   "metadata": {},
   "outputs": [
    {
     "data": {
      "text/html": [
       "<div>\n",
       "<style scoped>\n",
       "    .dataframe tbody tr th:only-of-type {\n",
       "        vertical-align: middle;\n",
       "    }\n",
       "\n",
       "    .dataframe tbody tr th {\n",
       "        vertical-align: top;\n",
       "    }\n",
       "\n",
       "    .dataframe thead th {\n",
       "        text-align: right;\n",
       "    }\n",
       "</style>\n",
       "<table border=\"1\" class=\"dataframe\">\n",
       "  <thead>\n",
       "    <tr style=\"text-align: right;\">\n",
       "      <th></th>\n",
       "      <th>Open</th>\n",
       "      <th>High</th>\n",
       "      <th>Low</th>\n",
       "    </tr>\n",
       "  </thead>\n",
       "  <tbody>\n",
       "    <tr>\n",
       "      <th>892</th>\n",
       "      <td>245.08</td>\n",
       "      <td>246.19</td>\n",
       "      <td>242.18</td>\n",
       "    </tr>\n",
       "    <tr>\n",
       "      <th>1105</th>\n",
       "      <td>127.02</td>\n",
       "      <td>133.19</td>\n",
       "      <td>127.00</td>\n",
       "    </tr>\n",
       "    <tr>\n",
       "      <th>413</th>\n",
       "      <td>4576.79</td>\n",
       "      <td>4768.63</td>\n",
       "      <td>4544.62</td>\n",
       "    </tr>\n",
       "    <tr>\n",
       "      <th>522</th>\n",
       "      <td>2298.19</td>\n",
       "      <td>2337.00</td>\n",
       "      <td>2266.50</td>\n",
       "    </tr>\n",
       "    <tr>\n",
       "      <th>1036</th>\n",
       "      <td>226.11</td>\n",
       "      <td>233.31</td>\n",
       "      <td>221.50</td>\n",
       "    </tr>\n",
       "    <tr>\n",
       "      <th>...</th>\n",
       "      <td>...</td>\n",
       "      <td>...</td>\n",
       "      <td>...</td>\n",
       "    </tr>\n",
       "    <tr>\n",
       "      <th>390</th>\n",
       "      <td>4292.42</td>\n",
       "      <td>4454.40</td>\n",
       "      <td>4234.92</td>\n",
       "    </tr>\n",
       "    <tr>\n",
       "      <th>1409</th>\n",
       "      <td>145.12</td>\n",
       "      <td>148.54</td>\n",
       "      <td>141.82</td>\n",
       "    </tr>\n",
       "    <tr>\n",
       "      <th>847</th>\n",
       "      <td>391.78</td>\n",
       "      <td>394.50</td>\n",
       "      <td>311.04</td>\n",
       "    </tr>\n",
       "    <tr>\n",
       "      <th>1284</th>\n",
       "      <td>308.67</td>\n",
       "      <td>362.89</td>\n",
       "      <td>308.50</td>\n",
       "    </tr>\n",
       "    <tr>\n",
       "      <th>615</th>\n",
       "      <td>2458.30</td>\n",
       "      <td>2680.29</td>\n",
       "      <td>2431.60</td>\n",
       "    </tr>\n",
       "  </tbody>\n",
       "</table>\n",
       "<p>483 rows × 3 columns</p>\n",
       "</div>"
      ],
      "text/plain": [
       "         Open     High      Low\n",
       "892    245.08   246.19   242.18\n",
       "1105   127.02   133.19   127.00\n",
       "413   4576.79  4768.63  4544.62\n",
       "522   2298.19  2337.00  2266.50\n",
       "1036   226.11   233.31   221.50\n",
       "...       ...      ...      ...\n",
       "390   4292.42  4454.40  4234.92\n",
       "1409   145.12   148.54   141.82\n",
       "847    391.78   394.50   311.04\n",
       "1284   308.67   362.89   308.50\n",
       "615   2458.30  2680.29  2431.60\n",
       "\n",
       "[483 rows x 3 columns]"
      ]
     },
     "execution_count": 26,
     "metadata": {},
     "output_type": "execute_result"
    }
   ],
   "source": [
    "X_test"
   ]
  },
  {
   "cell_type": "code",
   "execution_count": 27,
   "id": "50bf4ffb",
   "metadata": {},
   "outputs": [
    {
     "data": {
      "text/plain": [
       "613     2712.80\n",
       "1303     247.98\n",
       "486     3917.19\n",
       "561     2254.99\n",
       "308     2963.89\n",
       "         ...   \n",
       "1130     153.67\n",
       "1294     266.38\n",
       "860      392.69\n",
       "1459     154.55\n",
       "1126     150.99\n",
       "Name: Close, Length: 978, dtype: float64"
      ]
     },
     "execution_count": 27,
     "metadata": {},
     "output_type": "execute_result"
    }
   ],
   "source": [
    "y_train"
   ]
  },
  {
   "cell_type": "code",
   "execution_count": 28,
   "id": "808bf57a",
   "metadata": {},
   "outputs": [],
   "source": [
    "lreg = LinearRegression()"
   ]
  },
  {
   "cell_type": "code",
   "execution_count": null,
   "id": "4340daee",
   "metadata": {},
   "outputs": [],
   "source": []
  },
  {
   "cell_type": "code",
   "execution_count": 29,
   "id": "88dffb29",
   "metadata": {},
   "outputs": [
    {
     "data": {
      "text/plain": [
       "Index(['Open', 'High', 'Low', 'Close'], dtype='object')"
      ]
     },
     "execution_count": 29,
     "metadata": {},
     "output_type": "execute_result"
    }
   ],
   "source": [
    "eth.columns"
   ]
  },
  {
   "cell_type": "code",
   "execution_count": 30,
   "id": "b65368e8",
   "metadata": {},
   "outputs": [
    {
     "data": {
      "text/html": [
       "<style>#sk-container-id-1 {color: black;}#sk-container-id-1 pre{padding: 0;}#sk-container-id-1 div.sk-toggleable {background-color: white;}#sk-container-id-1 label.sk-toggleable__label {cursor: pointer;display: block;width: 100%;margin-bottom: 0;padding: 0.3em;box-sizing: border-box;text-align: center;}#sk-container-id-1 label.sk-toggleable__label-arrow:before {content: \"▸\";float: left;margin-right: 0.25em;color: #696969;}#sk-container-id-1 label.sk-toggleable__label-arrow:hover:before {color: black;}#sk-container-id-1 div.sk-estimator:hover label.sk-toggleable__label-arrow:before {color: black;}#sk-container-id-1 div.sk-toggleable__content {max-height: 0;max-width: 0;overflow: hidden;text-align: left;background-color: #f0f8ff;}#sk-container-id-1 div.sk-toggleable__content pre {margin: 0.2em;color: black;border-radius: 0.25em;background-color: #f0f8ff;}#sk-container-id-1 input.sk-toggleable__control:checked~div.sk-toggleable__content {max-height: 200px;max-width: 100%;overflow: auto;}#sk-container-id-1 input.sk-toggleable__control:checked~label.sk-toggleable__label-arrow:before {content: \"▾\";}#sk-container-id-1 div.sk-estimator input.sk-toggleable__control:checked~label.sk-toggleable__label {background-color: #d4ebff;}#sk-container-id-1 div.sk-label input.sk-toggleable__control:checked~label.sk-toggleable__label {background-color: #d4ebff;}#sk-container-id-1 input.sk-hidden--visually {border: 0;clip: rect(1px 1px 1px 1px);clip: rect(1px, 1px, 1px, 1px);height: 1px;margin: -1px;overflow: hidden;padding: 0;position: absolute;width: 1px;}#sk-container-id-1 div.sk-estimator {font-family: monospace;background-color: #f0f8ff;border: 1px dotted black;border-radius: 0.25em;box-sizing: border-box;margin-bottom: 0.5em;}#sk-container-id-1 div.sk-estimator:hover {background-color: #d4ebff;}#sk-container-id-1 div.sk-parallel-item::after {content: \"\";width: 100%;border-bottom: 1px solid gray;flex-grow: 1;}#sk-container-id-1 div.sk-label:hover label.sk-toggleable__label {background-color: #d4ebff;}#sk-container-id-1 div.sk-serial::before {content: \"\";position: absolute;border-left: 1px solid gray;box-sizing: border-box;top: 0;bottom: 0;left: 50%;z-index: 0;}#sk-container-id-1 div.sk-serial {display: flex;flex-direction: column;align-items: center;background-color: white;padding-right: 0.2em;padding-left: 0.2em;position: relative;}#sk-container-id-1 div.sk-item {position: relative;z-index: 1;}#sk-container-id-1 div.sk-parallel {display: flex;align-items: stretch;justify-content: center;background-color: white;position: relative;}#sk-container-id-1 div.sk-item::before, #sk-container-id-1 div.sk-parallel-item::before {content: \"\";position: absolute;border-left: 1px solid gray;box-sizing: border-box;top: 0;bottom: 0;left: 50%;z-index: -1;}#sk-container-id-1 div.sk-parallel-item {display: flex;flex-direction: column;z-index: 1;position: relative;background-color: white;}#sk-container-id-1 div.sk-parallel-item:first-child::after {align-self: flex-end;width: 50%;}#sk-container-id-1 div.sk-parallel-item:last-child::after {align-self: flex-start;width: 50%;}#sk-container-id-1 div.sk-parallel-item:only-child::after {width: 0;}#sk-container-id-1 div.sk-dashed-wrapped {border: 1px dashed gray;margin: 0 0.4em 0.5em 0.4em;box-sizing: border-box;padding-bottom: 0.4em;background-color: white;}#sk-container-id-1 div.sk-label label {font-family: monospace;font-weight: bold;display: inline-block;line-height: 1.2em;}#sk-container-id-1 div.sk-label-container {text-align: center;}#sk-container-id-1 div.sk-container {/* jupyter's `normalize.less` sets `[hidden] { display: none; }` but bootstrap.min.css set `[hidden] { display: none !important; }` so we also need the `!important` here to be able to override the default hidden behavior on the sphinx rendered scikit-learn.org. See: https://github.com/scikit-learn/scikit-learn/issues/21755 */display: inline-block !important;position: relative;}#sk-container-id-1 div.sk-text-repr-fallback {display: none;}</style><div id=\"sk-container-id-1\" class=\"sk-top-container\"><div class=\"sk-text-repr-fallback\"><pre>LinearRegression()</pre><b>In a Jupyter environment, please rerun this cell to show the HTML representation or trust the notebook. <br />On GitHub, the HTML representation is unable to render, please try loading this page with nbviewer.org.</b></div><div class=\"sk-container\" hidden><div class=\"sk-item\"><div class=\"sk-estimator sk-toggleable\"><input class=\"sk-toggleable__control sk-hidden--visually\" id=\"sk-estimator-id-1\" type=\"checkbox\" checked><label for=\"sk-estimator-id-1\" class=\"sk-toggleable__label sk-toggleable__label-arrow\">LinearRegression</label><div class=\"sk-toggleable__content\"><pre>LinearRegression()</pre></div></div></div></div></div>"
      ],
      "text/plain": [
       "LinearRegression()"
      ]
     },
     "execution_count": 30,
     "metadata": {},
     "output_type": "execute_result"
    }
   ],
   "source": [
    "lreg.fit(X_train,y_train)"
   ]
  },
  {
   "cell_type": "code",
   "execution_count": 31,
   "id": "87bcb4f3",
   "metadata": {},
   "outputs": [
    {
     "data": {
      "text/plain": [
       "0.18007915442012745"
      ]
     },
     "execution_count": 31,
     "metadata": {},
     "output_type": "execute_result"
    }
   ],
   "source": [
    "lreg.intercept_"
   ]
  },
  {
   "cell_type": "code",
   "execution_count": 32,
   "id": "adbe9147",
   "metadata": {},
   "outputs": [],
   "source": [
    "from sklearn import metrics"
   ]
  },
  {
   "cell_type": "code",
   "execution_count": 35,
   "id": "45535f92",
   "metadata": {},
   "outputs": [
    {
     "data": {
      "text/plain": [
       "array([-0.58814388,  0.92814578,  0.65398415])"
      ]
     },
     "execution_count": 35,
     "metadata": {},
     "output_type": "execute_result"
    }
   ],
   "source": [
    "lreg.coef_"
   ]
  },
  {
   "cell_type": "code",
   "execution_count": 36,
   "id": "99cccf1e",
   "metadata": {},
   "outputs": [],
   "source": [
    "predictions = lreg.predict(X_test)"
   ]
  },
  {
   "cell_type": "code",
   "execution_count": 37,
   "id": "aea597e5",
   "metadata": {},
   "outputs": [
    {
     "data": {
      "text/plain": [
       "array([ 242.91986843,  132.1497672 , 4706.46231636, 2299.84546286,\n",
       "        228.59804796, 2671.57293466, 1974.00841548,  184.90804568,\n",
       "       1669.90897896,  325.99293273, 2711.59813486,  208.88489851,\n",
       "        186.60738546, 2553.88533058,  130.01173544,  142.332641  ,\n",
       "       1559.36734276,  124.43648724,  148.05372734, 1637.88744174,\n",
       "        253.92503546, 3484.13950358, 1631.79030912,  127.41684929,\n",
       "       1263.45406846, 1551.79336171, 4629.76227937, 3494.34385542,\n",
       "       4231.17645536,  252.39838337, 1097.5684995 , 1872.79572031,\n",
       "        181.75084712, 1286.70243797,  246.14445577, 1500.38778892,\n",
       "        124.89586289, 4063.42675122,  225.25646296, 3106.19085673,\n",
       "       1248.1824282 , 2767.37885069,  130.20558566, 2544.11761864,\n",
       "       1245.14541713,  142.7852246 ,  167.84060311, 1219.37956612,\n",
       "       2571.43934066,  272.22934028,  216.0200415 ,  173.99948028,\n",
       "       3261.3971436 ,  150.21706452,  371.76581212, 1873.70795222,\n",
       "        344.32465242,  229.35301652,  472.85256187, 1856.85256507,\n",
       "       1250.90691504,  242.97642384, 1593.69220584,  513.41344516,\n",
       "        164.12810932, 1065.0965358 , 3773.93702123, 2244.63641136,\n",
       "        146.11656454, 1774.33636822,  237.64987624,  173.60465336,\n",
       "       4274.65876395,  644.0756765 ,  232.48638262, 1926.40038641,\n",
       "        158.09413901, 1204.87642411, 1105.09669579, 1610.34708536,\n",
       "       3378.4742828 , 4634.15588626, 4407.95667512, 3130.72548132,\n",
       "       4619.4075526 , 2570.66629579, 3188.99157747, 3166.24899513,\n",
       "        173.64509868,  156.98748813,  364.05386574, 1830.54446532,\n",
       "       3466.34897481, 3137.00434118, 1304.06868913,  241.86795043,\n",
       "       3500.21899956,  219.95588116, 1792.77049822, 2595.03939601,\n",
       "        132.62162522,  212.9770896 , 1560.10547776, 1201.75871937,\n",
       "        161.87621997,  256.40427037,  572.79868649, 1115.3173478 ,\n",
       "        282.14335636, 2357.65356244, 2095.47144095, 2867.57739986,\n",
       "        394.16200169,  135.31363366, 4030.02321881,  106.25983334,\n",
       "        374.15988536,  161.75801733,  179.68472864, 2980.29788051,\n",
       "       2195.3433163 , 1103.03083718,  148.63852891,  122.48649689,\n",
       "       4304.46228371,  307.96627027,  621.21961998, 1961.59318211,\n",
       "        376.33062328,  273.24005789, 2358.23977543, 2762.80205973,\n",
       "        209.9956104 , 1102.54285354,  225.42062776,  157.21076839,\n",
       "        186.8356993 , 1118.89956609,  223.93410845, 1765.12075687,\n",
       "       2013.55244967, 2150.19012684, 1296.21552601,  134.46979188,\n",
       "       4147.88004972,  134.50271744,  239.66586667,  446.22371796,\n",
       "        208.13927694, 2551.37469126, 1556.41832819, 1498.44081949,\n",
       "       2021.59528766,  227.6162989 ,  173.82246212,  124.6612436 ,\n",
       "        184.25920859, 2828.27307953, 2062.38989565,  708.82785222,\n",
       "       1271.59295628, 2036.18479483,  198.35747584,  271.0590944 ,\n",
       "       2672.96513145,  349.11089394, 2551.18033493, 2951.1403293 ,\n",
       "        266.06478944,  244.14901597, 3006.20225301, 1547.68607412,\n",
       "        139.48775819, 3831.41397823,  182.65350079, 4068.59213392,\n",
       "       2371.24878977,  379.33045997,  168.06146036,  164.31339828,\n",
       "        181.61126151,  374.70752204,  174.55149875, 4597.60260332,\n",
       "        233.92159701, 1559.84762495,  351.69498311,  135.97004911,\n",
       "        241.78281327,  224.21119788, 4076.25702773, 1733.39203033,\n",
       "        210.08232491,  171.48391875,  272.00145258, 3333.68372158,\n",
       "        142.69051305, 1275.91418103, 1185.22094754,  191.5210433 ,\n",
       "       3589.68674397, 1970.87495218, 3848.95541085, 4499.0463173 ,\n",
       "        207.59625627,  366.7843337 ,  146.0816511 ,  196.9496287 ,\n",
       "       3303.07491671,  162.45447564, 2695.16406874,  392.82648443,\n",
       "       1373.12705401,  590.45110609, 3262.47994504, 2334.50009954,\n",
       "       3889.22342899,  222.14789948, 3219.13265096,  171.1199351 ,\n",
       "        462.50330896, 1431.70382883, 4055.21945426,  394.6824032 ,\n",
       "        234.50454368, 2572.97690426,  285.77181441,  105.18974585,\n",
       "        266.49500369, 1273.85679991,  252.1859447 , 2788.04538701,\n",
       "       2516.45641148,  220.65721099, 4024.61788543, 2912.20600423,\n",
       "       4270.88939915,  146.10674362, 1702.87849623, 1879.66062564,\n",
       "       3329.61022259, 2913.16413862, 1945.82783282, 1561.12541434,\n",
       "        189.68524071, 1904.28355986, 3710.30523869, 1686.02733803,\n",
       "       1255.63170063, 1305.69930005,  107.82852788,  113.65423737,\n",
       "       3082.42592457,  144.44284794, 1958.848207  ,  118.39195075,\n",
       "        187.71326487,  266.43729852,  446.51084601,  129.07399283,\n",
       "        479.71732613, 1534.85165492, 2041.28109378, 4469.03091787,\n",
       "       1080.79364317,  193.02761022, 1278.78726915,  177.24399528,\n",
       "        148.6370196 , 1547.15205807,  233.18146314,  651.21448024,\n",
       "        237.95384758, 2427.99097501,  184.53095889,  422.8851338 ,\n",
       "        143.36779812, 3096.14495073, 2611.46164107,  107.82469256,\n",
       "        205.17344338,  124.92772051,  166.12603207, 1672.0581073 ,\n",
       "       3260.30922754,  311.31241715,  144.3155733 , 3353.70074893,\n",
       "        179.09991924,  370.30633915, 1719.38738338, 1251.35187949,\n",
       "       2907.98803107,  180.06034804, 2027.52218226,  408.2932894 ,\n",
       "       3872.45960867, 2510.63327282, 1312.83877366,  137.71875488,\n",
       "       3038.97926173,  388.03757429,  125.93151054,  380.31531725,\n",
       "        128.7121634 , 3492.58193151, 1316.58162454, 1771.15017465,\n",
       "       1645.93776298, 2214.85134758,  161.2886624 , 1190.11653416,\n",
       "       2864.95334318,  169.01665032,  183.68223325,  190.63239409,\n",
       "        243.21139731, 3151.19015589,  248.16267642, 2431.68815251,\n",
       "        159.56615124, 1258.37977415,  393.47091304, 1782.24926213,\n",
       "        227.24572299, 4332.17733965,  536.42821057, 3794.57403869,\n",
       "        299.57063573,  212.44581609, 1040.1592147 ,  244.30224701,\n",
       "        207.21741002, 4733.16896863, 2821.05385732, 1226.30213062,\n",
       "        294.98131425, 1203.05552241, 1622.7966357 ,  214.20171911,\n",
       "        124.80185799,  201.36834884,  236.72809833,  116.67124266,\n",
       "        209.16260354,  125.1076864 , 3382.50596964, 1217.91894504,\n",
       "        402.139247  ,  172.66084038, 2398.73174477, 3398.71002048,\n",
       "        135.28052588,  186.10567454,  172.49504735, 2475.39678907,\n",
       "        176.40566837,  175.40347391,  169.28714191, 1800.56179965,\n",
       "        171.42874882, 2660.19580295,  151.28124015,  222.27747543,\n",
       "        120.11488552,  116.25398093,  381.27684617,  138.19846196,\n",
       "       2423.4638523 ,  360.58172557,  367.8242129 , 3857.05232349,\n",
       "       1240.95909071, 1875.37679869,  444.23681664, 2818.22045645,\n",
       "        185.71419668, 1446.51285028, 4396.10747996, 1314.23845593,\n",
       "       3108.29295197,  174.3098339 , 3087.47382158,  271.22958665,\n",
       "       2554.57559422, 3259.85321954,  242.69283843,  384.13155534,\n",
       "       4013.38108694, 3095.84052615,  131.66499902,  255.2437646 ,\n",
       "       1578.83998445, 2246.62441362, 2931.22622907, 2174.39399158,\n",
       "        222.90292522, 3298.02131204, 3264.64639421, 1504.36491325,\n",
       "        208.34114196, 1758.17830939,  179.76967823, 1805.03669098,\n",
       "       3889.80933608, 1897.9726481 ,  168.21747174,  237.20612697,\n",
       "       2395.42738854,  181.28496545,  255.66243221, 1308.5693055 ,\n",
       "        244.7436505 , 1127.38449729, 3210.98793268, 1830.10637711,\n",
       "        157.86193133,  220.76847132,  182.58800521, 1202.29612048,\n",
       "       1806.61716032,  513.19709166, 3388.84799887, 2583.60874996,\n",
       "        229.47524805, 2948.10465571,  345.82458228, 2426.16734798,\n",
       "        152.70815339, 2056.37700511, 3056.38868476, 1484.60235995,\n",
       "        338.9942497 , 3151.57903204, 3114.17032955, 1701.61871264,\n",
       "       4085.84097787,  412.72390908, 1576.36456049,  151.8936833 ,\n",
       "        556.7613304 ,  234.6508208 , 4071.43015732, 2284.00317226,\n",
       "        181.28546677,  147.95193891,  143.38579546, 1718.60426831,\n",
       "        212.66379155,  223.80606627, 2195.52283368, 3336.08083131,\n",
       "        232.59229165,  222.29943446,  133.76317518,  280.1876781 ,\n",
       "       2598.28358345, 2897.19273374,  282.70926173,  210.4488885 ,\n",
       "        343.04372584, 4270.45127309,  241.62087825, 1347.15608574,\n",
       "       2022.42034245,  171.42855238, 3492.95831296,  130.86116369,\n",
       "       4118.75801282,  189.12656953, 2411.88751498, 1643.09370448,\n",
       "       3375.92109101, 2251.82227327, 3465.18768956,  179.98302815,\n",
       "        384.35670448,  136.88096298, 4379.52265141,  145.44344583,\n",
       "        339.3258109 ,  357.20664069, 2632.27369496])"
      ]
     },
     "execution_count": 37,
     "metadata": {},
     "output_type": "execute_result"
    }
   ],
   "source": [
    "predictions"
   ]
  },
  {
   "cell_type": "code",
   "execution_count": 38,
   "id": "1550c007",
   "metadata": {},
   "outputs": [
    {
     "data": {
      "text/plain": [
       "<matplotlib.collections.PathCollection at 0x11c8487b150>"
      ]
     },
     "execution_count": 38,
     "metadata": {},
     "output_type": "execute_result"
    },
    {
     "data": {
      "image/png": "[encoded data removed]",
      "text/plain": [
       "<Figure size 640x480 with 1 Axes>"
      ]
     },
     "metadata": {},
     "output_type": "display_data"
    }
   ],
   "source": [
    "plt.scatter(y_test,predictions)"
   ]
  },
  {
   "cell_type": "code",
   "execution_count": 40,
   "id": "686e5430",
   "metadata": {},
   "outputs": [
    {
     "data": {
      "text/plain": [
       "21.213563190958894"
      ]
     },
     "execution_count": 40,
     "metadata": {},
     "output_type": "execute_result"
    }
   ],
   "source": [
    "metrics.mean_absolute_error(y_test,predictions)"
   ]
  },
  {
   "cell_type": "code",
   "execution_count": 41,
   "id": "fa65e744",
   "metadata": {},
   "outputs": [
    {
     "data": {
      "text/plain": [
       "0.9987494368894707"
      ]
     },
     "execution_count": 41,
     "metadata": {},
     "output_type": "execute_result"
    }
   ],
   "source": [
    "metrics.explained_variance_score(y_test,predictions)"
   ]
  },
  {
   "cell_type": "code",
   "execution_count": null,
   "id": "0f9d3bf4",
   "metadata": {},
   "outputs": [],
   "source": []
  }
 ],
 "metadata": {
  "kernelspec": {
   "display_name": "Python 3 (ipykernel)",
   "language": "python",
   "name": "python3"
  },
  "language_info": {
   "codemirror_mode": {
    "name": "ipython",
    "version": 3
   },
   "file_extension": ".py",
   "mimetype": "text/x-python",
   "name": "python",
   "nbconvert_exporter": "python",
   "pygments_lexer": "ipython3",
   "version": "3.11.5"
  }
 },
 "nbformat": 4,
 "nbformat_minor": 5
}

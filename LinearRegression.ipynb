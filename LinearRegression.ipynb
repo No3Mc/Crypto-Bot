{
 "cells": [
  {
   "cell_type": "code",
   "execution_count": 18,
   "id": "ea785b51",
   "metadata": {},
   "outputs": [],
   "source": [
    "import pandas as pd\n",
    "import matplotlib.pyplot as plt\n",
    "import seaborn as sns\n",
    "from sklearn.linear_model import LinearRegression\n",
    "from sklearn.model_selection import train_test_split\n",
    "%matplotlib inline "
   ]
  },
  {
   "cell_type": "code",
   "execution_count": 19,
   "id": "07c188b5",
   "metadata": {},
   "outputs": [],
   "source": [
    "eth = pd.read_csv('Updated-Ethereum History(2019-2023).csv')"
   ]
  },
  {
   "cell_type": "code",
   "execution_count": 20,
   "id": "5b67dc2b",
   "metadata": {},
   "outputs": [
    {
     "data": {
      "text/html": [
       "<div>\n",
       "<style scoped>\n",
       "    .dataframe tbody tr th:only-of-type {\n",
       "        vertical-align: middle;\n",
       "    }\n",
       "\n",
       "    .dataframe tbody tr th {\n",
       "        vertical-align: top;\n",
       "    }\n",
       "\n",
       "    .dataframe thead th {\n",
       "        text-align: right;\n",
       "    }\n",
       "</style>\n",
       "<table border=\"1\" class=\"dataframe\">\n",
       "  <thead>\n",
       "    <tr style=\"text-align: right;\">\n",
       "      <th></th>\n",
       "      <th>Open</th>\n",
       "      <th>High</th>\n",
       "      <th>Low</th>\n",
       "      <th>Close</th>\n",
       "    </tr>\n",
       "  </thead>\n",
       "  <tbody>\n",
       "    <tr>\n",
       "      <th>0</th>\n",
       "      <td>1210.95</td>\n",
       "      <td>1270.50</td>\n",
       "      <td>1209.61</td>\n",
       "      <td>1252.16</td>\n",
       "    </tr>\n",
       "    <tr>\n",
       "      <th>1</th>\n",
       "      <td>1219.58</td>\n",
       "      <td>1219.65</td>\n",
       "      <td>1205.82</td>\n",
       "      <td>1210.65</td>\n",
       "    </tr>\n",
       "    <tr>\n",
       "      <th>2</th>\n",
       "      <td>1202.11</td>\n",
       "      <td>1221.34</td>\n",
       "      <td>1192.89</td>\n",
       "      <td>1221.34</td>\n",
       "    </tr>\n",
       "    <tr>\n",
       "      <th>3</th>\n",
       "      <td>1199.52</td>\n",
       "      <td>1203.55</td>\n",
       "      <td>1190.86</td>\n",
       "      <td>1202.11</td>\n",
       "    </tr>\n",
       "    <tr>\n",
       "      <th>4</th>\n",
       "      <td>1197.51</td>\n",
       "      <td>1206.99</td>\n",
       "      <td>1192.00</td>\n",
       "      <td>1199.52</td>\n",
       "    </tr>\n",
       "  </tbody>\n",
       "</table>\n",
       "</div>"
      ],
      "text/plain": [
       "      Open     High      Low    Close\n",
       "0  1210.95  1270.50  1209.61  1252.16\n",
       "1  1219.58  1219.65  1205.82  1210.65\n",
       "2  1202.11  1221.34  1192.89  1221.34\n",
       "3  1199.52  1203.55  1190.86  1202.11\n",
       "4  1197.51  1206.99  1192.00  1199.52"
      ]
     },
     "execution_count": 20,
     "metadata": {},
     "output_type": "execute_result"
    }
   ],
   "source": [
    "eth.drop(['Date'], axis=1, inplace=True)\n",
    "eth.head()"
   ]
  },
  {
   "cell_type": "code",
   "execution_count": 22,
   "id": "0f918a29",
   "metadata": {},
   "outputs": [],
   "source": [
    "X = eth[['Open','High','Low']]"
   ]
  },
  {
   "cell_type": "code",
   "execution_count": 23,
   "id": "fdaa5c49",
   "metadata": {},
   "outputs": [],
   "source": [
    "y = eth['Close']"
   ]
  },
  {
   "cell_type": "code",
   "execution_count": 57,
   "id": "a48510c2",
   "metadata": {},
   "outputs": [],
   "source": [
    "X_train, X_test, y_train, y_test = train_test_split(X, y, test_size=0.30, random_state=42)"
   ]
  },
  {
   "cell_type": "code",
   "execution_count": 58,
   "id": "f08b008b",
   "metadata": {},
   "outputs": [
    {
     "data": {
      "text/html": [
       "<div>\n",
       "<style scoped>\n",
       "    .dataframe tbody tr th:only-of-type {\n",
       "        vertical-align: middle;\n",
       "    }\n",
       "\n",
       "    .dataframe tbody tr th {\n",
       "        vertical-align: top;\n",
       "    }\n",
       "\n",
       "    .dataframe thead th {\n",
       "        text-align: right;\n",
       "    }\n",
       "</style>\n",
       "<table border=\"1\" class=\"dataframe\">\n",
       "  <thead>\n",
       "    <tr style=\"text-align: right;\">\n",
       "      <th></th>\n",
       "      <th>Open</th>\n",
       "      <th>High</th>\n",
       "      <th>Low</th>\n",
       "    </tr>\n",
       "  </thead>\n",
       "  <tbody>\n",
       "    <tr>\n",
       "      <th>1452</th>\n",
       "      <td>148.78</td>\n",
       "      <td>153.25</td>\n",
       "      <td>148.29</td>\n",
       "    </tr>\n",
       "    <tr>\n",
       "      <th>762</th>\n",
       "      <td>544.02</td>\n",
       "      <td>569.83</td>\n",
       "      <td>531.60</td>\n",
       "    </tr>\n",
       "    <tr>\n",
       "      <th>932</th>\n",
       "      <td>232.37</td>\n",
       "      <td>239.19</td>\n",
       "      <td>228.04</td>\n",
       "    </tr>\n",
       "    <tr>\n",
       "      <th>435</th>\n",
       "      <td>4089.47</td>\n",
       "      <td>4184.40</td>\n",
       "      <td>3964.49</td>\n",
       "    </tr>\n",
       "    <tr>\n",
       "      <th>629</th>\n",
       "      <td>2146.50</td>\n",
       "      <td>2315.00</td>\n",
       "      <td>2137.08</td>\n",
       "    </tr>\n",
       "    <tr>\n",
       "      <th>...</th>\n",
       "      <td>...</td>\n",
       "      <td>...</td>\n",
       "      <td>...</td>\n",
       "    </tr>\n",
       "    <tr>\n",
       "      <th>1130</th>\n",
       "      <td>148.08</td>\n",
       "      <td>155.87</td>\n",
       "      <td>141.16</td>\n",
       "    </tr>\n",
       "    <tr>\n",
       "      <th>1294</th>\n",
       "      <td>269.59</td>\n",
       "      <td>278.80</td>\n",
       "      <td>263.35</td>\n",
       "    </tr>\n",
       "    <tr>\n",
       "      <th>860</th>\n",
       "      <td>388.65</td>\n",
       "      <td>396.90</td>\n",
       "      <td>384.01</td>\n",
       "    </tr>\n",
       "    <tr>\n",
       "      <th>1459</th>\n",
       "      <td>137.70</td>\n",
       "      <td>155.95</td>\n",
       "      <td>136.64</td>\n",
       "    </tr>\n",
       "    <tr>\n",
       "      <th>1126</th>\n",
       "      <td>152.00</td>\n",
       "      <td>152.74</td>\n",
       "      <td>146.00</td>\n",
       "    </tr>\n",
       "  </tbody>\n",
       "</table>\n",
       "<p>1022 rows × 3 columns</p>\n",
       "</div>"
      ],
      "text/plain": [
       "         Open     High      Low\n",
       "1452   148.78   153.25   148.29\n",
       "762    544.02   569.83   531.60\n",
       "932    232.37   239.19   228.04\n",
       "435   4089.47  4184.40  3964.49\n",
       "629   2146.50  2315.00  2137.08\n",
       "...       ...      ...      ...\n",
       "1130   148.08   155.87   141.16\n",
       "1294   269.59   278.80   263.35\n",
       "860    388.65   396.90   384.01\n",
       "1459   137.70   155.95   136.64\n",
       "1126   152.00   152.74   146.00\n",
       "\n",
       "[1022 rows x 3 columns]"
      ]
     },
     "execution_count": 58,
     "metadata": {},
     "output_type": "execute_result"
    }
   ],
   "source": [
    "X_train"
   ]
  },
  {
   "cell_type": "code",
   "execution_count": 59,
   "id": "dd39c5fc",
   "metadata": {},
   "outputs": [
    {
     "data": {
      "text/html": [
       "<div>\n",
       "<style scoped>\n",
       "    .dataframe tbody tr th:only-of-type {\n",
       "        vertical-align: middle;\n",
       "    }\n",
       "\n",
       "    .dataframe tbody tr th {\n",
       "        vertical-align: top;\n",
       "    }\n",
       "\n",
       "    .dataframe thead th {\n",
       "        text-align: right;\n",
       "    }\n",
       "</style>\n",
       "<table border=\"1\" class=\"dataframe\">\n",
       "  <thead>\n",
       "    <tr style=\"text-align: right;\">\n",
       "      <th></th>\n",
       "      <th>Open</th>\n",
       "      <th>High</th>\n",
       "      <th>Low</th>\n",
       "    </tr>\n",
       "  </thead>\n",
       "  <tbody>\n",
       "    <tr>\n",
       "      <th>892</th>\n",
       "      <td>245.08</td>\n",
       "      <td>246.19</td>\n",
       "      <td>242.18</td>\n",
       "    </tr>\n",
       "    <tr>\n",
       "      <th>1105</th>\n",
       "      <td>127.02</td>\n",
       "      <td>133.19</td>\n",
       "      <td>127.00</td>\n",
       "    </tr>\n",
       "    <tr>\n",
       "      <th>413</th>\n",
       "      <td>4576.79</td>\n",
       "      <td>4768.63</td>\n",
       "      <td>4544.62</td>\n",
       "    </tr>\n",
       "    <tr>\n",
       "      <th>522</th>\n",
       "      <td>2298.19</td>\n",
       "      <td>2337.00</td>\n",
       "      <td>2266.50</td>\n",
       "    </tr>\n",
       "    <tr>\n",
       "      <th>1036</th>\n",
       "      <td>226.11</td>\n",
       "      <td>233.31</td>\n",
       "      <td>221.50</td>\n",
       "    </tr>\n",
       "    <tr>\n",
       "      <th>...</th>\n",
       "      <td>...</td>\n",
       "      <td>...</td>\n",
       "      <td>...</td>\n",
       "    </tr>\n",
       "    <tr>\n",
       "      <th>323</th>\n",
       "      <td>2915.93</td>\n",
       "      <td>3150.00</td>\n",
       "      <td>2913.40</td>\n",
       "    </tr>\n",
       "    <tr>\n",
       "      <th>650</th>\n",
       "      <td>1661.92</td>\n",
       "      <td>1720.84</td>\n",
       "      <td>1654.01</td>\n",
       "    </tr>\n",
       "    <tr>\n",
       "      <th>439</th>\n",
       "      <td>3809.01</td>\n",
       "      <td>4135.43</td>\n",
       "      <td>3803.80</td>\n",
       "    </tr>\n",
       "    <tr>\n",
       "      <th>798</th>\n",
       "      <td>409.00</td>\n",
       "      <td>416.49</td>\n",
       "      <td>407.55</td>\n",
       "    </tr>\n",
       "    <tr>\n",
       "      <th>135</th>\n",
       "      <td>1618.50</td>\n",
       "      <td>1644.69</td>\n",
       "      <td>1531.51</td>\n",
       "    </tr>\n",
       "  </tbody>\n",
       "</table>\n",
       "<p>439 rows × 3 columns</p>\n",
       "</div>"
      ],
      "text/plain": [
       "         Open     High      Low\n",
       "892    245.08   246.19   242.18\n",
       "1105   127.02   133.19   127.00\n",
       "413   4576.79  4768.63  4544.62\n",
       "522   2298.19  2337.00  2266.50\n",
       "1036   226.11   233.31   221.50\n",
       "...       ...      ...      ...\n",
       "323   2915.93  3150.00  2913.40\n",
       "650   1661.92  1720.84  1654.01\n",
       "439   3809.01  4135.43  3803.80\n",
       "798    409.00   416.49   407.55\n",
       "135   1618.50  1644.69  1531.51\n",
       "\n",
       "[439 rows x 3 columns]"
      ]
     },
     "execution_count": 59,
     "metadata": {},
     "output_type": "execute_result"
    }
   ],
   "source": [
    "X_test"
   ]
  },
  {
   "cell_type": "code",
   "execution_count": 60,
   "id": "50bf4ffb",
   "metadata": {},
   "outputs": [
    {
     "data": {
      "text/plain": [
       "1452     149.55\n",
       "762      566.54\n",
       "932      237.67\n",
       "435     4063.12\n",
       "629     2301.00\n",
       "         ...   \n",
       "1130     153.67\n",
       "1294     266.38\n",
       "860      392.69\n",
       "1459     154.55\n",
       "1126     150.99\n",
       "Name: Close, Length: 1022, dtype: float64"
      ]
     },
     "execution_count": 60,
     "metadata": {},
     "output_type": "execute_result"
    }
   ],
   "source": [
    "y_train"
   ]
  },
  {
   "cell_type": "code",
   "execution_count": 61,
   "id": "808bf57a",
   "metadata": {},
   "outputs": [],
   "source": [
    "lreg = LinearRegression()"
   ]
  },
  {
   "cell_type": "code",
   "execution_count": null,
   "id": "4340daee",
   "metadata": {},
   "outputs": [],
   "source": []
  },
  {
   "cell_type": "code",
   "execution_count": 62,
   "id": "88dffb29",
   "metadata": {},
   "outputs": [
    {
     "data": {
      "text/plain": [
       "Index(['Open', 'High', 'Low', 'Close'], dtype='object')"
      ]
     },
     "execution_count": 62,
     "metadata": {},
     "output_type": "execute_result"
    }
   ],
   "source": [
    "eth.columns"
   ]
  },
  {
   "cell_type": "code",
   "execution_count": 63,
   "id": "b65368e8",
   "metadata": {},
   "outputs": [
    {
     "data": {
      "text/html": [
       "<style>#sk-container-id-3 {color: black;}#sk-container-id-3 pre{padding: 0;}#sk-container-id-3 div.sk-toggleable {background-color: white;}#sk-container-id-3 label.sk-toggleable__label {cursor: pointer;display: block;width: 100%;margin-bottom: 0;padding: 0.3em;box-sizing: border-box;text-align: center;}#sk-container-id-3 label.sk-toggleable__label-arrow:before {content: \"▸\";float: left;margin-right: 0.25em;color: #696969;}#sk-container-id-3 label.sk-toggleable__label-arrow:hover:before {color: black;}#sk-container-id-3 div.sk-estimator:hover label.sk-toggleable__label-arrow:before {color: black;}#sk-container-id-3 div.sk-toggleable__content {max-height: 0;max-width: 0;overflow: hidden;text-align: left;background-color: #f0f8ff;}#sk-container-id-3 div.sk-toggleable__content pre {margin: 0.2em;color: black;border-radius: 0.25em;background-color: #f0f8ff;}#sk-container-id-3 input.sk-toggleable__control:checked~div.sk-toggleable__content {max-height: 200px;max-width: 100%;overflow: auto;}#sk-container-id-3 input.sk-toggleable__control:checked~label.sk-toggleable__label-arrow:before {content: \"▾\";}#sk-container-id-3 div.sk-estimator input.sk-toggleable__control:checked~label.sk-toggleable__label {background-color: #d4ebff;}#sk-container-id-3 div.sk-label input.sk-toggleable__control:checked~label.sk-toggleable__label {background-color: #d4ebff;}#sk-container-id-3 input.sk-hidden--visually {border: 0;clip: rect(1px 1px 1px 1px);clip: rect(1px, 1px, 1px, 1px);height: 1px;margin: -1px;overflow: hidden;padding: 0;position: absolute;width: 1px;}#sk-container-id-3 div.sk-estimator {font-family: monospace;background-color: #f0f8ff;border: 1px dotted black;border-radius: 0.25em;box-sizing: border-box;margin-bottom: 0.5em;}#sk-container-id-3 div.sk-estimator:hover {background-color: #d4ebff;}#sk-container-id-3 div.sk-parallel-item::after {content: \"\";width: 100%;border-bottom: 1px solid gray;flex-grow: 1;}#sk-container-id-3 div.sk-label:hover label.sk-toggleable__label {background-color: #d4ebff;}#sk-container-id-3 div.sk-serial::before {content: \"\";position: absolute;border-left: 1px solid gray;box-sizing: border-box;top: 0;bottom: 0;left: 50%;z-index: 0;}#sk-container-id-3 div.sk-serial {display: flex;flex-direction: column;align-items: center;background-color: white;padding-right: 0.2em;padding-left: 0.2em;position: relative;}#sk-container-id-3 div.sk-item {position: relative;z-index: 1;}#sk-container-id-3 div.sk-parallel {display: flex;align-items: stretch;justify-content: center;background-color: white;position: relative;}#sk-container-id-3 div.sk-item::before, #sk-container-id-3 div.sk-parallel-item::before {content: \"\";position: absolute;border-left: 1px solid gray;box-sizing: border-box;top: 0;bottom: 0;left: 50%;z-index: -1;}#sk-container-id-3 div.sk-parallel-item {display: flex;flex-direction: column;z-index: 1;position: relative;background-color: white;}#sk-container-id-3 div.sk-parallel-item:first-child::after {align-self: flex-end;width: 50%;}#sk-container-id-3 div.sk-parallel-item:last-child::after {align-self: flex-start;width: 50%;}#sk-container-id-3 div.sk-parallel-item:only-child::after {width: 0;}#sk-container-id-3 div.sk-dashed-wrapped {border: 1px dashed gray;margin: 0 0.4em 0.5em 0.4em;box-sizing: border-box;padding-bottom: 0.4em;background-color: white;}#sk-container-id-3 div.sk-label label {font-family: monospace;font-weight: bold;display: inline-block;line-height: 1.2em;}#sk-container-id-3 div.sk-label-container {text-align: center;}#sk-container-id-3 div.sk-container {/* jupyter's `normalize.less` sets `[hidden] { display: none; }` but bootstrap.min.css set `[hidden] { display: none !important; }` so we also need the `!important` here to be able to override the default hidden behavior on the sphinx rendered scikit-learn.org. See: https://github.com/scikit-learn/scikit-learn/issues/21755 */display: inline-block !important;position: relative;}#sk-container-id-3 div.sk-text-repr-fallback {display: none;}</style><div id=\"sk-container-id-3\" class=\"sk-top-container\"><div class=\"sk-text-repr-fallback\"><pre>LinearRegression()</pre><b>In a Jupyter environment, please rerun this cell to show the HTML representation or trust the notebook. <br />On GitHub, the HTML representation is unable to render, please try loading this page with nbviewer.org.</b></div><div class=\"sk-container\" hidden><div class=\"sk-item\"><div class=\"sk-estimator sk-toggleable\"><input class=\"sk-toggleable__control sk-hidden--visually\" id=\"sk-estimator-id-3\" type=\"checkbox\" checked><label for=\"sk-estimator-id-3\" class=\"sk-toggleable__label sk-toggleable__label-arrow\">LinearRegression</label><div class=\"sk-toggleable__content\"><pre>LinearRegression()</pre></div></div></div></div></div>"
      ],
      "text/plain": [
       "LinearRegression()"
      ]
     },
     "execution_count": 63,
     "metadata": {},
     "output_type": "execute_result"
    }
   ],
   "source": [
    "lreg.fit(X_train,y_train)"
   ]
  },
  {
   "cell_type": "code",
   "execution_count": 64,
   "id": "87bcb4f3",
   "metadata": {},
   "outputs": [
    {
     "data": {
      "text/plain": [
       "0.42586679571468267"
      ]
     },
     "execution_count": 64,
     "metadata": {},
     "output_type": "execute_result"
    }
   ],
   "source": [
    "lreg.intercept_"
   ]
  },
  {
   "cell_type": "code",
   "execution_count": 65,
   "id": "9ededd22",
   "metadata": {},
   "outputs": [],
   "source": [
    "from sklearn import metrics"
   ]
  },
  {
   "cell_type": "code",
   "execution_count": 66,
   "id": "566d48f9",
   "metadata": {},
   "outputs": [
    {
     "data": {
      "text/plain": [
       "array([-0.58524033,  0.92170245,  0.65739697])"
      ]
     },
     "execution_count": 66,
     "metadata": {},
     "output_type": "execute_result"
    }
   ],
   "source": [
    "lreg.coef_"
   ]
  },
  {
   "cell_type": "code",
   "execution_count": 67,
   "id": "610be441",
   "metadata": {},
   "outputs": [],
   "source": [
    "predictions = lreg.predict(X_test)"
   ]
  },
  {
   "cell_type": "code",
   "execution_count": 68,
   "id": "fcd687fb",
   "metadata": {},
   "outputs": [
    {
     "data": {
      "text/plain": [
       "array([ 243.1174909 ,  132.33960451, 4704.78114616, 2299.44124941,\n",
       "        228.75300311, 2670.54707459, 1973.56607609,  185.08963339,\n",
       "       1669.19195093,  326.0736072 , 2710.38125122,  209.07545821,\n",
       "        186.79881605, 2553.4108463 ,  130.20246983,  142.54430811,\n",
       "       1558.79013897,  124.64976092,  148.26791101, 1637.24140411,\n",
       "        254.05446154, 3482.68146179, 1630.63506869,  127.6277144 ,\n",
       "       1263.10393131, 1551.63029256, 4628.8739757 , 3493.54472859,\n",
       "       4230.02374363,  252.53266152, 1097.22433812, 1872.13806802,\n",
       "        181.9312151 , 1286.60481583,  246.28943558, 1499.76731216,\n",
       "        125.09625649, 4062.78424627,  225.43140506, 3105.40095263,\n",
       "       1247.66646493, 2766.31602242,  130.388648  , 2541.95028007,\n",
       "       1241.41279588,  142.92250987,  168.02347152, 1219.1277176 ,\n",
       "       2568.45432023,  272.33907446,  216.18079549,  174.20174367,\n",
       "       3260.20663686,  150.18972109,  371.92738782, 1873.45933364,\n",
       "        344.31048738,  229.54052732,  472.95945961, 1856.34662371,\n",
       "       1250.86887009,  243.13843827, 1593.3361186 ,  513.2431722 ,\n",
       "        164.30651367, 1064.72683297, 3771.02458582, 2243.30667189,\n",
       "        146.31842964, 1774.01280267,  237.83389798,  173.74830707,\n",
       "       4273.27882125,  644.02089479,  232.66819697, 1926.0269131 ,\n",
       "        158.29273708, 1204.08626717, 1104.91555433, 1610.24119754,\n",
       "       3377.31357973, 4631.59261482, 4406.81726945, 3129.77905285,\n",
       "       4617.85855263, 2569.1172111 , 3188.52881579, 3165.32461619,\n",
       "        173.79699177,  157.16810274,  364.16732553, 1830.16358964,\n",
       "       3465.58009028, 3136.0560606 , 1303.93481927,  241.97255947,\n",
       "       3499.19771276,  220.08765164, 1792.48526231, 2594.14446314,\n",
       "        132.78610307,  213.13411828, 1559.32804461, 1201.44484005,\n",
       "        162.0746403 ,  256.54049576,  572.83191816, 1114.60058413,\n",
       "        282.18501807, 2356.86722881, 2094.96941044, 2866.71793216,\n",
       "        394.23933358,  135.46029833, 4029.16148625,  106.47912752,\n",
       "        374.30526309,  161.94072732,  179.8379523 , 2979.81283526,\n",
       "       2194.49074258, 1102.29423592,  148.83792524,  122.69661902,\n",
       "       4303.43412387,  308.11980137,  621.08393098, 1959.25909956,\n",
       "        376.37162501,  273.38959984, 2356.22059273, 2761.5742859 ,\n",
       "        210.10959541, 1102.16476604,  225.57737963,  157.40491555,\n",
       "        186.98857287, 1118.64738943,  224.10446442, 1764.40353567,\n",
       "       2012.78991296, 2149.74612109, 1296.09167341,  134.67653583,\n",
       "       4146.67786707,  134.716071  ,  239.83393119,  446.29993125,\n",
       "        208.3262438 , 2549.48232666, 1555.95724723, 1497.85957737,\n",
       "       2020.95488563,  227.80103176,  173.9641782 ,  124.86133262,\n",
       "        184.30965012, 2827.68171588, 2061.82855186,  708.77477258,\n",
       "       1271.47680412, 2035.48508746,  198.49585562,  271.02572425,\n",
       "       2671.86051806,  349.1305776 , 2550.83647271, 2950.26719277,\n",
       "        266.13807474,  244.31759412, 3004.70052189, 1546.86934177,\n",
       "        139.67677754, 3828.27519919,  182.84323041, 4067.88054723,\n",
       "       2369.83457988,  379.18151972,  168.24351298,  164.51853293,\n",
       "        181.80334494,  374.81303039,  174.72165395, 4596.08903673,\n",
       "        234.01354955, 1559.36466059,  351.8628554 ,  136.18015379,\n",
       "        241.90110164,  224.39599321, 4074.55002145, 1732.20514612,\n",
       "        210.27633381,  171.67328574,  272.12689933, 3332.34127585,\n",
       "        142.8856107 , 1275.72240685, 1184.43576926,  191.70651779,\n",
       "       3588.87875674, 1969.87597843, 3847.63443766, 4498.12366437,\n",
       "        207.75362705,  366.92091987,  146.26303597,  197.12620185,\n",
       "       3302.41850141,  162.61716216, 2694.0744045 ,  392.91493777,\n",
       "       1372.6582692 ,  590.54270059, 3261.70659166, 2333.2538874 ,\n",
       "       3886.90562775,  222.29787365, 3217.69871851,  171.31668788,\n",
       "        462.58320723, 1430.86358429, 4051.66711521,  394.78821439,\n",
       "        234.69789558, 2572.51605212,  285.89577728,  105.39582122,\n",
       "        266.61544079, 1272.97206412,  252.25863463, 2786.35423275,\n",
       "       2515.54338449,  220.81786184, 4021.71732563, 2911.39234522,\n",
       "       4269.57847063,  146.29859183, 1702.3917573 , 1879.15096126,\n",
       "       3328.8740128 , 2912.32648949, 1943.7488364 , 1560.94610701,\n",
       "        189.84344879, 1903.82576684, 3709.19707758, 1685.65504933,\n",
       "       1255.54430515, 1305.46111767,  108.03313985,  113.84921013,\n",
       "       3081.33239624,  144.62793765, 1958.35915432,  118.6020922 ,\n",
       "        187.86233736,  266.60095596,  446.62448294,  129.20027202,\n",
       "        479.73802934, 1533.9176191 , 2040.57971636, 4467.20353731,\n",
       "       1080.52003933,  193.20892382, 1278.78468534,  177.3364675 ,\n",
       "        148.84292685, 1546.39017728,  233.32744357,  651.1950021 ,\n",
       "        238.13222825, 2427.19882312,  184.7269215 ,  422.98458985,\n",
       "        143.54273168, 3095.41663603, 2607.44867705,  108.02773249,\n",
       "        205.35205229,  125.13916338,  166.21464061, 1670.84871866,\n",
       "       3259.17447491,  311.44255507,  144.50288107, 3352.25688992,\n",
       "        179.25323179,  370.45406382, 1718.9228262 , 1250.61256503,\n",
       "       2906.84604475,  180.20612976, 2027.03863936,  408.41187154,\n",
       "       3871.19651908, 2509.81706078, 1312.72670105,  137.92881728,\n",
       "       3038.14743296,  388.16527644,  126.10209414,  380.44407874,\n",
       "        128.91572851, 3491.26812831, 1316.27054501, 1770.63744621,\n",
       "       1645.23729434, 2213.86725672,  161.48290253, 1189.35316389,\n",
       "       2863.64611695,  169.21023345,  183.88292053,  190.7451535 ,\n",
       "        243.40232158, 3150.37955303,  248.28557056, 2430.63215833,\n",
       "        159.72096197, 1258.24946974,  393.60308152, 1781.98473969,\n",
       "        227.44210656, 4329.89448988,  536.35643584, 3793.20066962,\n",
       "        299.61400701,  212.61483017, 1039.83558779,  244.44722605,\n",
       "        207.31693861, 4731.64148433, 2819.70243913, 1226.00267586,\n",
       "        295.11967903, 1202.93712795, 1622.3013144 ,  214.38260052,\n",
       "        124.98530676,  201.55028135,  236.86295782,  116.88570956,\n",
       "        209.34228881,  125.29301531, 3380.86602751, 1217.82901537,\n",
       "        402.21572826,  172.85862584, 2397.03342956, 3397.20685759,\n",
       "        135.47054944,  186.30583969,  172.69799016, 2474.40597484,\n",
       "        176.6068497 ,  175.60522663,  169.43903825, 1800.02645787,\n",
       "        171.62397917, 2659.65672276,  151.48678491,  222.42009919,\n",
       "        120.3192933 ,  116.25885724,  381.34551847,  138.40071189,\n",
       "       2422.51336764,  360.67760711,  367.88061008, 3855.67749277,\n",
       "       1240.60193188, 1875.09617699,  444.1988182 , 2817.13781608,\n",
       "        185.89109641, 1446.23658864, 4394.38254145, 1313.93582373,\n",
       "       3106.33580085,  174.48622287, 3086.51710235,  271.3970688 ,\n",
       "       2553.92216946, 3259.12817318,  242.86196524,  384.23468671,\n",
       "       4012.12907079, 3094.73195442,  131.8689739 ,  255.35459   ,\n",
       "       1578.35737551, 2245.72707521, 2929.84504037, 2173.35052454,\n",
       "        223.05415432, 3294.28003929, 3263.74969602, 1503.20585509,\n",
       "        208.52405637, 1757.75764532,  179.93222821, 1804.76880961,\n",
       "       3888.94108542, 1897.29642405,  168.4041917 ,  237.35749154,\n",
       "       2394.11903651,  181.47494945,  255.70730417, 1307.94789084,\n",
       "        244.85781033, 1125.90454338, 3209.63530307, 1829.63543616,\n",
       "        158.06956588,  220.90590525,  182.74540742, 1202.29293213,\n",
       "       1805.5171845 ,  513.20557303, 3387.39769039, 2583.20092429,\n",
       "        229.66298503, 2947.65717628,  345.98121981, 2424.84931425,\n",
       "        152.9026085 , 2055.89969792, 3055.31869165, 1484.39892669,\n",
       "        339.04680451, 3150.17184282, 3112.52907998, 1701.24686297,\n",
       "       4083.48215316,  412.86456007, 1575.93922769])"
      ]
     },
     "execution_count": 68,
     "metadata": {},
     "output_type": "execute_result"
    }
   ],
   "source": [
    "predictions"
   ]
  },
  {
   "cell_type": "code",
   "execution_count": 69,
   "id": "b5703bf1",
   "metadata": {},
   "outputs": [
    {
     "data": {
      "text/plain": [
       "<matplotlib.collections.PathCollection at 0x11c84c12550>"
      ]
     },
     "execution_count": 69,
     "metadata": {},
     "output_type": "execute_result"
    },
    {
     "data": {
      "image/png": "[encoded data removed]",
      "text/plain": [
       "<Figure size 640x480 with 1 Axes>"
      ]
     },
     "metadata": {},
     "output_type": "display_data"
    }
   ],
   "source": [
    "plt.scatter(y_test,predictions)"
   ]
  },
  {
   "cell_type": "code",
   "execution_count": 70,
   "id": "c0fc9d2d",
   "metadata": {},
   "outputs": [
    {
     "data": {
      "text/plain": [
       "21.064670449385453"
      ]
     },
     "execution_count": 70,
     "metadata": {},
     "output_type": "execute_result"
    }
   ],
   "source": [
    "metrics.mean_absolute_error(y_test,predictions)"
   ]
  },
  {
   "cell_type": "code",
   "execution_count": 71,
   "id": "39781e07",
   "metadata": {},
   "outputs": [
    {
     "data": {
      "text/plain": [
       "0.9987042202520576"
      ]
     },
     "execution_count": 71,
     "metadata": {},
     "output_type": "execute_result"
    }
   ],
   "source": [
    "metrics.explained_variance_score(y_test,predictions)"
   ]
  },
  {
   "cell_type": "code",
   "execution_count": 72,
   "id": "3eee110d",
   "metadata": {},
   "outputs": [
    {
     "data": {
      "text/plain": [
       "21.064670449385453"
      ]
     },
     "execution_count": 72,
     "metadata": {},
     "output_type": "execute_result"
    }
   ],
   "source": [
    "metrics.mean_absolute_error(y_test,predictions)"
   ]
  },
  {
   "cell_type": "code",
   "execution_count": 73,
   "id": "5e2d70c6",
   "metadata": {},
   "outputs": [
    {
     "data": {
      "text/plain": [
       "2273.9234868196913"
      ]
     },
     "execution_count": 73,
     "metadata": {},
     "output_type": "execute_result"
    }
   ],
   "source": [
    "metrics.mean_squared_error(y_test,predictions)"
   ]
  },
  {
   "cell_type": "code",
   "execution_count": null,
   "id": "bdb3a4a4",
   "metadata": {},
   "outputs": [],
   "source": []
  }
 ],
 "metadata": {
  "kernelspec": {
   "display_name": "Python 3 (ipykernel)",
   "language": "python",
   "name": "python3"
  },
  "language_info": {
   "codemirror_mode": {
    "name": "ipython",
    "version": 3
   },
   "file_extension": ".py",
   "mimetype": "text/x-python",
   "name": "python",
   "nbconvert_exporter": "python",
   "pygments_lexer": "ipython3",
   "version": "3.11.5"
  }
 },
 "nbformat": 4,
 "nbformat_minor": 5
}
